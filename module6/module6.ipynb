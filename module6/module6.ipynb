{
 "cells": [
  {
   "cell_type": "code",
   "execution_count": 70,
   "metadata": {},
   "outputs": [],
   "source": [
    "from math import *\n",
    "import glob\n",
    "import numpy as np\n",
    "import pandas as pd\n",
    "import matplotlib as mpl\n",
    "import matplotlib.pyplot as plt\n",
    "from pylab import plot,show\n",
    "from sklearn.cluster import KMeans\n",
    "from sklearn import metrics\n",
    "from scipy.spatial.distance import cdist\n",
    "from scipy.cluster.vq import kmeans,vq\n",
    "from scipy.cluster.hierarchy import dendrogram, linkage\n",
    "from sklearn.cluster import AgglomerativeClustering\n",
    "\n",
    "mpl.rc('axes', labelsize=14)\n",
    "mpl.rc('xtick', labelsize=12)\n",
    "mpl.rc('ytick', labelsize=12)\n",
    "\n",
    "# Where to save the figures\n",
    "PROJECT_ROOT_DIR = \".\"\n",
    "CHAPTER_ID = \"module6\"\n",
    "IMAGES_PATH = os.path.join(PROJECT_ROOT_DIR, \"images\", CHAPTER_ID)\n",
    "\n",
    "def save_fig(fig_id, tight_layout=True, fig_extension=\"png\", resolution=300):\n",
    "    path = os.path.join(IMAGES_PATH, fig_id + \".\" + fig_extension)\n",
    "    print(\"Saving figure\", fig_id)\n",
    "    if tight_layout:\n",
    "        plt.tight_layout()\n",
    "    plt.savefig(path, format=fig_extension, dpi=resolution)\n",
    "\n"
   ]
  },
  {
   "cell_type": "code",
   "execution_count": 27,
   "metadata": {},
   "outputs": [],
   "source": [
    "files = glob.glob('G:\\harsh\\ml\\practice problems\\stock_analysis\\module6\\datasets\\cmpdata/**/*.csv',  \n",
    "                   recursive = True) \n",
    "i=0\n",
    "for file in files: \n",
    "    globals()['data%s' % i]=pd.read_csv(file)\n",
    "    i=i+1"
   ]
  },
  {
   "cell_type": "code",
   "execution_count": 28,
   "metadata": {},
   "outputs": [
    {
     "data": {
      "text/plain": [
       "26"
      ]
     },
     "execution_count": 28,
     "metadata": {},
     "output_type": "execute_result"
    }
   ],
   "source": [
    "len(files)"
   ]
  },
  {
   "cell_type": "code",
   "execution_count": 35,
   "metadata": {},
   "outputs": [
    {
     "data": {
      "text/html": [
       "<div>\n",
       "<style scoped>\n",
       "    .dataframe tbody tr th:only-of-type {\n",
       "        vertical-align: middle;\n",
       "    }\n",
       "\n",
       "    .dataframe tbody tr th {\n",
       "        vertical-align: top;\n",
       "    }\n",
       "\n",
       "    .dataframe thead th {\n",
       "        text-align: right;\n",
       "    }\n",
       "</style>\n",
       "<table border=\"1\" class=\"dataframe\">\n",
       "  <thead>\n",
       "    <tr style=\"text-align: right;\">\n",
       "      <th></th>\n",
       "      <th>ADANIPOWER</th>\n",
       "      <th>AJANTPHARM</th>\n",
       "      <th>AMARAJABAT</th>\n",
       "      <th>APOLLOTYRE</th>\n",
       "      <th>BERGEPAINT</th>\n",
       "      <th>CASTROLIND</th>\n",
       "      <th>CUMMINSIND</th>\n",
       "      <th>DHFL</th>\n",
       "      <th>EXIDEIND</th>\n",
       "      <th>GMRINFRA</th>\n",
       "      <th>...</th>\n",
       "      <th>MRPL</th>\n",
       "      <th>MUTHOOTFIN</th>\n",
       "      <th>NBCC</th>\n",
       "      <th>PNB</th>\n",
       "      <th>RBLBANK</th>\n",
       "      <th>RELINFRA</th>\n",
       "      <th>SUNTV</th>\n",
       "      <th>TATACHEM</th>\n",
       "      <th>TATAPOWER</th>\n",
       "      <th>VOLTAS</th>\n",
       "    </tr>\n",
       "    <tr>\n",
       "      <th>Date</th>\n",
       "      <th></th>\n",
       "      <th></th>\n",
       "      <th></th>\n",
       "      <th></th>\n",
       "      <th></th>\n",
       "      <th></th>\n",
       "      <th></th>\n",
       "      <th></th>\n",
       "      <th></th>\n",
       "      <th></th>\n",
       "      <th></th>\n",
       "      <th></th>\n",
       "      <th></th>\n",
       "      <th></th>\n",
       "      <th></th>\n",
       "      <th></th>\n",
       "      <th></th>\n",
       "      <th></th>\n",
       "      <th></th>\n",
       "      <th></th>\n",
       "      <th></th>\n",
       "    </tr>\n",
       "  </thead>\n",
       "  <tbody>\n",
       "    <tr>\n",
       "      <th>2017-05-15</th>\n",
       "      <td>30.25</td>\n",
       "      <td>1633.50</td>\n",
       "      <td>933.40</td>\n",
       "      <td>231.90</td>\n",
       "      <td>259.5</td>\n",
       "      <td>449.85</td>\n",
       "      <td>1066.05</td>\n",
       "      <td>431.4</td>\n",
       "      <td>245.80</td>\n",
       "      <td>17.55</td>\n",
       "      <td>...</td>\n",
       "      <td>134.2</td>\n",
       "      <td>392.45</td>\n",
       "      <td>197.60</td>\n",
       "      <td>166.80</td>\n",
       "      <td>563.90</td>\n",
       "      <td>605.40</td>\n",
       "      <td>912.20</td>\n",
       "      <td>629.80</td>\n",
       "      <td>83.55</td>\n",
       "      <td>431.85</td>\n",
       "    </tr>\n",
       "    <tr>\n",
       "      <th>2017-05-16</th>\n",
       "      <td>32.85</td>\n",
       "      <td>1634.25</td>\n",
       "      <td>924.70</td>\n",
       "      <td>234.40</td>\n",
       "      <td>261.5</td>\n",
       "      <td>443.00</td>\n",
       "      <td>1047.75</td>\n",
       "      <td>1009.9</td>\n",
       "      <td>244.70</td>\n",
       "      <td>17.40</td>\n",
       "      <td>...</td>\n",
       "      <td>131.7</td>\n",
       "      <td>1750.00</td>\n",
       "      <td>198.25</td>\n",
       "      <td>174.15</td>\n",
       "      <td>562.60</td>\n",
       "      <td>611.05</td>\n",
       "      <td>894.70</td>\n",
       "      <td>643.90</td>\n",
       "      <td>83.85</td>\n",
       "      <td>432.45</td>\n",
       "    </tr>\n",
       "    <tr>\n",
       "      <th>2017-05-17</th>\n",
       "      <td>33.10</td>\n",
       "      <td>1654.35</td>\n",
       "      <td>937.70</td>\n",
       "      <td>237.35</td>\n",
       "      <td>260.9</td>\n",
       "      <td>439.55</td>\n",
       "      <td>1016.45</td>\n",
       "      <td>1055.2</td>\n",
       "      <td>243.20</td>\n",
       "      <td>17.30</td>\n",
       "      <td>...</td>\n",
       "      <td>135.1</td>\n",
       "      <td>394.80</td>\n",
       "      <td>200.35</td>\n",
       "      <td>165.05</td>\n",
       "      <td>564.25</td>\n",
       "      <td>605.25</td>\n",
       "      <td>887.05</td>\n",
       "      <td>638.10</td>\n",
       "      <td>85.35</td>\n",
       "      <td>430.20</td>\n",
       "    </tr>\n",
       "    <tr>\n",
       "      <th>2017-05-18</th>\n",
       "      <td>31.90</td>\n",
       "      <td>1633.40</td>\n",
       "      <td>912.10</td>\n",
       "      <td>232.65</td>\n",
       "      <td>254.1</td>\n",
       "      <td>433.95</td>\n",
       "      <td>1054.45</td>\n",
       "      <td>1070.0</td>\n",
       "      <td>239.85</td>\n",
       "      <td>16.75</td>\n",
       "      <td>...</td>\n",
       "      <td>136.1</td>\n",
       "      <td>1010.00</td>\n",
       "      <td>194.20</td>\n",
       "      <td>158.50</td>\n",
       "      <td>552.15</td>\n",
       "      <td>578.65</td>\n",
       "      <td>871.35</td>\n",
       "      <td>624.90</td>\n",
       "      <td>83.75</td>\n",
       "      <td>414.10</td>\n",
       "    </tr>\n",
       "    <tr>\n",
       "      <th>2017-05-19</th>\n",
       "      <td>32.40</td>\n",
       "      <td>1670.25</td>\n",
       "      <td>895.75</td>\n",
       "      <td>234.65</td>\n",
       "      <td>247.8</td>\n",
       "      <td>437.10</td>\n",
       "      <td>972.95</td>\n",
       "      <td>1050.0</td>\n",
       "      <td>238.15</td>\n",
       "      <td>16.95</td>\n",
       "      <td>...</td>\n",
       "      <td>133.6</td>\n",
       "      <td>1750.00</td>\n",
       "      <td>193.55</td>\n",
       "      <td>155.20</td>\n",
       "      <td>555.45</td>\n",
       "      <td>569.55</td>\n",
       "      <td>852.40</td>\n",
       "      <td>616.45</td>\n",
       "      <td>84.15</td>\n",
       "      <td>415.75</td>\n",
       "    </tr>\n",
       "  </tbody>\n",
       "</table>\n",
       "<p>5 rows × 26 columns</p>\n",
       "</div>"
      ],
      "text/plain": [
       "            ADANIPOWER  AJANTPHARM  AMARAJABAT  APOLLOTYRE  BERGEPAINT  \\\n",
       "Date                                                                     \n",
       "2017-05-15       30.25     1633.50      933.40      231.90       259.5   \n",
       "2017-05-16       32.85     1634.25      924.70      234.40       261.5   \n",
       "2017-05-17       33.10     1654.35      937.70      237.35       260.9   \n",
       "2017-05-18       31.90     1633.40      912.10      232.65       254.1   \n",
       "2017-05-19       32.40     1670.25      895.75      234.65       247.8   \n",
       "\n",
       "            CASTROLIND  CUMMINSIND    DHFL  EXIDEIND  GMRINFRA  ...   MRPL  \\\n",
       "Date                                                            ...          \n",
       "2017-05-15      449.85     1066.05   431.4    245.80     17.55  ...  134.2   \n",
       "2017-05-16      443.00     1047.75  1009.9    244.70     17.40  ...  131.7   \n",
       "2017-05-17      439.55     1016.45  1055.2    243.20     17.30  ...  135.1   \n",
       "2017-05-18      433.95     1054.45  1070.0    239.85     16.75  ...  136.1   \n",
       "2017-05-19      437.10      972.95  1050.0    238.15     16.95  ...  133.6   \n",
       "\n",
       "            MUTHOOTFIN    NBCC     PNB  RBLBANK  RELINFRA   SUNTV  TATACHEM  \\\n",
       "Date                                                                          \n",
       "2017-05-15      392.45  197.60  166.80   563.90    605.40  912.20    629.80   \n",
       "2017-05-16     1750.00  198.25  174.15   562.60    611.05  894.70    643.90   \n",
       "2017-05-17      394.80  200.35  165.05   564.25    605.25  887.05    638.10   \n",
       "2017-05-18     1010.00  194.20  158.50   552.15    578.65  871.35    624.90   \n",
       "2017-05-19     1750.00  193.55  155.20   555.45    569.55  852.40    616.45   \n",
       "\n",
       "            TATAPOWER  VOLTAS  \n",
       "Date                           \n",
       "2017-05-15      83.55  431.85  \n",
       "2017-05-16      83.85  432.45  \n",
       "2017-05-17      85.35  430.20  \n",
       "2017-05-18      83.75  414.10  \n",
       "2017-05-19      84.15  415.75  \n",
       "\n",
       "[5 rows x 26 columns]"
      ]
     },
     "execution_count": 35,
     "metadata": {},
     "output_type": "execute_result"
    }
   ],
   "source": [
    "df = pd.DataFrame()\n",
    "df[data0[\"Symbol\"][0]]=data0[\"Close Price\"]\n",
    "df[data1[\"Symbol\"][0]]=data1[\"Close Price\"]\n",
    "df[data2[\"Symbol\"][0]]=data2[\"Close Price\"]\n",
    "df[data3[\"Symbol\"][0]]=data3[\"Close Price\"]\n",
    "df[data4[\"Symbol\"][0]]=data4[\"Close Price\"]\n",
    "df[data5[\"Symbol\"][0]]=data5[\"Close Price\"]\n",
    "df[data6[\"Symbol\"][0]]=data6[\"Close Price\"]\n",
    "df[data7[\"Symbol\"][0]]=data7[\"Close Price\"]\n",
    "df[data8[\"Symbol\"][0]]=data8[\"Close Price\"]\n",
    "df[data9[\"Symbol\"][0]]=data9[\"Close Price\"]\n",
    "df[data10[\"Symbol\"][0]]=data10[\"Close Price\"]\n",
    "df[data11[\"Symbol\"][0]]=data11[\"Close Price\"]\n",
    "df[data12[\"Symbol\"][0]]=data12[\"Close Price\"]\n",
    "df[data13[\"Symbol\"][0]]=data13[\"Close Price\"]\n",
    "df[data14[\"Symbol\"][0]]=data14[\"Close Price\"]\n",
    "df[data15[\"Symbol\"][0]]=data15[\"Close Price\"]\n",
    "df[data16[\"Symbol\"][0]]=data16[\"Close Price\"]\n",
    "df[data17[\"Symbol\"][0]]=data17[\"Close Price\"]\n",
    "df[data18[\"Symbol\"][0]]=data18[\"Close Price\"]\n",
    "df[data19[\"Symbol\"][0]]=data19[\"Close Price\"]\n",
    "df[data20[\"Symbol\"][0]]=data20[\"Close Price\"]\n",
    "df[data21[\"Symbol\"][0]]=data21[\"Close Price\"]\n",
    "df[data22[\"Symbol\"][0]]=data22[\"Close Price\"]\n",
    "df[data23[\"Symbol\"][0]]=data23[\"Close Price\"]\n",
    "df[data24[\"Symbol\"][0]]=data24[\"Close Price\"]\n",
    "df[data25[\"Symbol\"][0]]=data25[\"Close Price\"]\n",
    "df['Date'] = data0['Date']\n",
    "df['Date'] = pd.to_datetime(df['Date'])\n",
    "df.set_index('Date',inplace = True)\n",
    "df.head()"
   ]
  },
  {
   "cell_type": "code",
   "execution_count": 43,
   "metadata": {},
   "outputs": [
    {
     "data": {
      "text/html": [
       "<div>\n",
       "<style scoped>\n",
       "    .dataframe tbody tr th:only-of-type {\n",
       "        vertical-align: middle;\n",
       "    }\n",
       "\n",
       "    .dataframe tbody tr th {\n",
       "        vertical-align: top;\n",
       "    }\n",
       "\n",
       "    .dataframe thead th {\n",
       "        text-align: right;\n",
       "    }\n",
       "</style>\n",
       "<table border=\"1\" class=\"dataframe\">\n",
       "  <thead>\n",
       "    <tr style=\"text-align: right;\">\n",
       "      <th></th>\n",
       "      <th>Returns</th>\n",
       "      <th>Volatility</th>\n",
       "    </tr>\n",
       "  </thead>\n",
       "  <tbody>\n",
       "    <tr>\n",
       "      <th>ADANIPOWER</th>\n",
       "      <td>0.305273</td>\n",
       "      <td>0.610532</td>\n",
       "    </tr>\n",
       "    <tr>\n",
       "      <th>AJANTPHARM</th>\n",
       "      <td>-0.173891</td>\n",
       "      <td>0.332171</td>\n",
       "    </tr>\n",
       "    <tr>\n",
       "      <th>AMARAJABAT</th>\n",
       "      <td>-0.168654</td>\n",
       "      <td>0.267425</td>\n",
       "    </tr>\n",
       "    <tr>\n",
       "      <th>APOLLOTYRE</th>\n",
       "      <td>-0.064303</td>\n",
       "      <td>0.310445</td>\n",
       "    </tr>\n",
       "    <tr>\n",
       "      <th>BERGEPAINT</th>\n",
       "      <td>0.108935</td>\n",
       "      <td>0.267668</td>\n",
       "    </tr>\n",
       "    <tr>\n",
       "      <th>CASTROLIND</th>\n",
       "      <td>-0.434557</td>\n",
       "      <td>0.446466</td>\n",
       "    </tr>\n",
       "    <tr>\n",
       "      <th>CUMMINSIND</th>\n",
       "      <td>-0.177629</td>\n",
       "      <td>0.296544</td>\n",
       "    </tr>\n",
       "    <tr>\n",
       "      <th>DHFL</th>\n",
       "      <td>27.851587</td>\n",
       "      <td>8.424197</td>\n",
       "    </tr>\n",
       "    <tr>\n",
       "      <th>EXIDEIND</th>\n",
       "      <td>-0.051484</td>\n",
       "      <td>0.262985</td>\n",
       "    </tr>\n",
       "    <tr>\n",
       "      <th>GMRINFRA</th>\n",
       "      <td>0.043816</td>\n",
       "      <td>0.479169</td>\n",
       "    </tr>\n",
       "    <tr>\n",
       "      <th>GODREJIND</th>\n",
       "      <td>-0.090250</td>\n",
       "      <td>0.266650</td>\n",
       "    </tr>\n",
       "    <tr>\n",
       "      <th>IDBI</th>\n",
       "      <td>-0.296008</td>\n",
       "      <td>0.453787</td>\n",
       "    </tr>\n",
       "    <tr>\n",
       "      <th>IGL</th>\n",
       "      <td>-0.131762</td>\n",
       "      <td>0.651128</td>\n",
       "    </tr>\n",
       "    <tr>\n",
       "      <th>JINDALSTEL</th>\n",
       "      <td>0.275371</td>\n",
       "      <td>0.492980</td>\n",
       "    </tr>\n",
       "    <tr>\n",
       "      <th>JUBLFOOD</th>\n",
       "      <td>0.267514</td>\n",
       "      <td>0.501004</td>\n",
       "    </tr>\n",
       "    <tr>\n",
       "      <th>MINDTREE</th>\n",
       "      <td>0.392570</td>\n",
       "      <td>0.341485</td>\n",
       "    </tr>\n",
       "    <tr>\n",
       "      <th>MRPL</th>\n",
       "      <td>-0.322957</td>\n",
       "      <td>0.365898</td>\n",
       "    </tr>\n",
       "    <tr>\n",
       "      <th>MUTHOOTFIN</th>\n",
       "      <td>104.597615</td>\n",
       "      <td>18.299167</td>\n",
       "    </tr>\n",
       "    <tr>\n",
       "      <th>NBCC</th>\n",
       "      <td>-0.515176</td>\n",
       "      <td>0.508672</td>\n",
       "    </tr>\n",
       "    <tr>\n",
       "      <th>PNB</th>\n",
       "      <td>-0.239440</td>\n",
       "      <td>0.545390</td>\n",
       "    </tr>\n",
       "    <tr>\n",
       "      <th>RBLBANK</th>\n",
       "      <td>0.113497</td>\n",
       "      <td>0.258732</td>\n",
       "    </tr>\n",
       "    <tr>\n",
       "      <th>RELINFRA</th>\n",
       "      <td>-0.750074</td>\n",
       "      <td>0.547576</td>\n",
       "    </tr>\n",
       "    <tr>\n",
       "      <th>SUNTV</th>\n",
       "      <td>-0.205704</td>\n",
       "      <td>0.365414</td>\n",
       "    </tr>\n",
       "    <tr>\n",
       "      <th>TATACHEM</th>\n",
       "      <td>0.002191</td>\n",
       "      <td>0.246859</td>\n",
       "    </tr>\n",
       "    <tr>\n",
       "      <th>TATAPOWER</th>\n",
       "      <td>-0.090950</td>\n",
       "      <td>0.308297</td>\n",
       "    </tr>\n",
       "    <tr>\n",
       "      <th>VOLTAS</th>\n",
       "      <td>0.191030</td>\n",
       "      <td>0.308346</td>\n",
       "    </tr>\n",
       "  </tbody>\n",
       "</table>\n",
       "</div>"
      ],
      "text/plain": [
       "               Returns  Volatility\n",
       "ADANIPOWER    0.305273    0.610532\n",
       "AJANTPHARM   -0.173891    0.332171\n",
       "AMARAJABAT   -0.168654    0.267425\n",
       "APOLLOTYRE   -0.064303    0.310445\n",
       "BERGEPAINT    0.108935    0.267668\n",
       "CASTROLIND   -0.434557    0.446466\n",
       "CUMMINSIND   -0.177629    0.296544\n",
       "DHFL         27.851587    8.424197\n",
       "EXIDEIND     -0.051484    0.262985\n",
       "GMRINFRA      0.043816    0.479169\n",
       "GODREJIND    -0.090250    0.266650\n",
       "IDBI         -0.296008    0.453787\n",
       "IGL          -0.131762    0.651128\n",
       "JINDALSTEL    0.275371    0.492980\n",
       "JUBLFOOD      0.267514    0.501004\n",
       "MINDTREE      0.392570    0.341485\n",
       "MRPL         -0.322957    0.365898\n",
       "MUTHOOTFIN  104.597615   18.299167\n",
       "NBCC         -0.515176    0.508672\n",
       "PNB          -0.239440    0.545390\n",
       "RBLBANK       0.113497    0.258732\n",
       "RELINFRA     -0.750074    0.547576\n",
       "SUNTV        -0.205704    0.365414\n",
       "TATACHEM      0.002191    0.246859\n",
       "TATAPOWER    -0.090950    0.308297\n",
       "VOLTAS        0.191030    0.308346"
      ]
     },
     "execution_count": 43,
     "metadata": {},
     "output_type": "execute_result"
    }
   ],
   "source": [
    "df = df.dropna()\n",
    "returns = df.pct_change().mean() * 252\n",
    "returns = pd.DataFrame(returns)\n",
    "returns.columns = ['Returns']\n",
    "returns['Volatility'] = df.pct_change().std() * sqrt(252)\n",
    "returns"
   ]
  },
  {
   "cell_type": "code",
   "execution_count": 53,
   "metadata": {},
   "outputs": [
    {
     "data": {
      "image/png": "[encoded data removed]",
      "text/plain": [
       "<Figure size 432x288 with 1 Axes>"
      ]
     },
     "metadata": {
      "needs_background": "light"
     },
     "output_type": "display_data"
    },
    {
     "name": "stdout",
     "output_type": "stream",
     "text": [
      "Saving figure The Elbow Method showing this optimal k\n"
     ]
    },
    {
     "data": {
      "text/plain": [
       "<Figure size 432x288 with 0 Axes>"
      ]
     },
     "metadata": {},
     "output_type": "display_data"
    }
   ],
   "source": [
    "data = np.asarray([np.asarray(returns['Returns']),np.asarray(returns['Volatility'])]).T\n",
    "X = data\n",
    "distortions = []\n",
    "K = range(1,10)\n",
    "for k in K:\n",
    "    kmeanModel = KMeans(n_clusters=k).fit(X)\n",
    "    kmeanModel.fit(X)\n",
    "    distortions.append(sum(np.min(cdist(X, kmeanModel.cluster_centers_, 'euclidean'), axis=1)) / X.shape[0])\n",
    "\n",
    "# Plot the elbow\n",
    "plt.plot(K, distortions, 'bx-')\n",
    "plt.xlabel('k')\n",
    "plt.ylabel('Distortion')\n",
    "plt.title('The Elbow Method showing the optimal k')\n",
    "plt.show()\n",
    "save_fig(\"The Elbow Method showing this optimal k\")"
   ]
  },
  {
   "cell_type": "code",
   "execution_count": 60,
   "metadata": {},
   "outputs": [
    {
     "name": "stdout",
     "output_type": "stream",
     "text": [
      "Saving figure Plotting  Of Sample Cluster\n"
     ]
    },
    {
     "data": {
      "image/png": "[encoded data removed]",
      "text/plain": [
       "<Figure size 432x288 with 1 Axes>"
      ]
     },
     "metadata": {
      "needs_background": "light"
     },
     "output_type": "display_data"
    }
   ],
   "source": [
    "centroids,_ = kmeans(X,3)\n",
    "# assign each sample to a cluster\n",
    "idx,_ = vq(data,centroids)\n",
    "# some plotting using numpy's logical indexing\n",
    "plot(data[idx==0,0],data[idx==0,1],'ob',\n",
    "     data[idx==1,0],data[idx==1,1],'oy',\n",
    "     data[idx==2,0],data[idx==2,1],'or',\n",
    "     data[idx==3,0],data[idx==3,1],'og',\n",
    "     data[idx==4,0],data[idx==4,1],'om')\n",
    "plot(centroids[:,0],centroids[:,1],'sg',markersize=3)\n",
    "save_fig(\"Plotting  Of Sample Cluster\")"
   ]
  },
  {
   "cell_type": "code",
   "execution_count": 61,
   "metadata": {},
   "outputs": [
    {
     "name": "stdout",
     "output_type": "stream",
     "text": [
      "Returns       MUTHOOTFIN\n",
      "Volatility    MUTHOOTFIN\n",
      "dtype: object\n"
     ]
    }
   ],
   "source": [
    "print(returns.idxmax())"
   ]
  },
  {
   "cell_type": "code",
   "execution_count": 62,
   "metadata": {},
   "outputs": [],
   "source": [
    "returns.drop('MUTHOOTFIN',inplace=True)\n",
    "\n",
    "data = np.asarray([np.asarray(returns['Returns']),np.asarray(returns['Volatility'])]).T"
   ]
  },
  {
   "cell_type": "code",
   "execution_count": 64,
   "metadata": {},
   "outputs": [
    {
     "data": {
      "image/png": "[encoded data removed]",
      "text/plain": [
       "<Figure size 432x288 with 1 Axes>"
      ]
     },
     "metadata": {
      "needs_background": "light"
     },
     "output_type": "display_data"
    },
    {
     "name": "stdout",
     "output_type": "stream",
     "text": [
      "Saving figure Plotting  Of Sample Cluster1\n"
     ]
    },
    {
     "data": {
      "text/plain": [
       "<Figure size 432x288 with 0 Axes>"
      ]
     },
     "metadata": {},
     "output_type": "display_data"
    }
   ],
   "source": [
    "centroids,_ = kmeans(data,3)\n",
    "# assign each sample to a cluster\n",
    "idx,_ = vq(data,centroids)\n",
    "# some plotting using numpy's logical indexing\n",
    "plot(data[idx==0,0],data[idx==0,1],'ob',\n",
    "     data[idx==1,0],data[idx==1,1],'oy',\n",
    "     data[idx==2,0],data[idx==2,1],'or',\n",
    "     data[idx==3,0],data[idx==3,1],'og',\n",
    "     data[idx==4,0],data[idx==4,1],'om')\n",
    "plot(centroids[:,0],centroids[:,1],'sg',markersize=8)\n",
    "show()\n",
    "save_fig(\"Plotting  Of Sample Cluster1\")"
   ]
  },
  {
   "cell_type": "code",
   "execution_count": 65,
   "metadata": {},
   "outputs": [
    {
     "name": "stdout",
     "output_type": "stream",
     "text": [
      "Returns       DHFL\n",
      "Volatility    DHFL\n",
      "dtype: object\n"
     ]
    }
   ],
   "source": [
    "print(returns.idxmax())"
   ]
  },
  {
   "cell_type": "code",
   "execution_count": 66,
   "metadata": {},
   "outputs": [],
   "source": [
    "returns.drop('DHFL',inplace=True)\n",
    "data = np.asarray([np.asarray(returns['Returns']),np.asarray(returns['Volatility'])]).T"
   ]
  },
  {
   "cell_type": "code",
   "execution_count": 79,
   "metadata": {},
   "outputs": [
    {
     "data": {
      "image/png": "[encoded data removed]",
      "text/plain": [
       "<Figure size 432x288 with 1 Axes>"
      ]
     },
     "metadata": {
      "needs_background": "light"
     },
     "output_type": "display_data"
    },
    {
     "name": "stdout",
     "output_type": "stream",
     "text": [
      "Saving figure final cluster\n"
     ]
    },
    {
     "data": {
      "text/plain": [
       "<Figure size 432x288 with 0 Axes>"
      ]
     },
     "metadata": {},
     "output_type": "display_data"
    }
   ],
   "source": [
    "centroids,_ = kmeans(data,3)\n",
    "# assign each sample to a cluster\n",
    "idx,_ = vq(data,centroids)\n",
    "# some plotting using numpy's logical indexing\n",
    "plot(data[idx==0,0],data[idx==0,1],'ob',\n",
    "     data[idx==1,0],data[idx==1,1],'oy',\n",
    "     data[idx==2,0],data[idx==2,1],'or',\n",
    "     data[idx==3,0],data[idx==3,1],'og',\n",
    "     data[idx==4,0],data[idx==4,1],'om')\n",
    "plot(centroids[:,0],centroids[:,1],'sg',markersize=8)\n",
    "show()\n",
    "save_fig(\"final cluster\")"
   ]
  },
  {
   "cell_type": "code",
   "execution_count": 80,
   "metadata": {},
   "outputs": [
    {
     "name": "stdout",
     "output_type": "stream",
     "text": [
      "('ADANIPOWER', 0)\n",
      "('AJANTPHARM', 1)\n",
      "('AMARAJABAT', 1)\n",
      "('APOLLOTYRE', 1)\n",
      "('BERGEPAINT', 1)\n",
      "('CASTROLIND', 2)\n",
      "('CUMMINSIND', 1)\n",
      "('EXIDEIND', 1)\n",
      "('GMRINFRA', 0)\n",
      "('GODREJIND', 1)\n",
      "('IDBI', 2)\n",
      "('IGL', 2)\n",
      "('JINDALSTEL', 0)\n",
      "('JUBLFOOD', 0)\n",
      "('MINDTREE', 0)\n",
      "('MRPL', 2)\n",
      "('NBCC', 2)\n",
      "('PNB', 2)\n",
      "('RBLBANK', 1)\n",
      "('RELINFRA', 2)\n",
      "('SUNTV', 1)\n",
      "('TATACHEM', 1)\n",
      "('TATAPOWER', 1)\n",
      "('VOLTAS', 0)\n"
     ]
    }
   ],
   "source": [
    "details = [(name,cluster) for name, cluster in zip(returns.index,idx)]\n",
    "for detail in details:\n",
    "    print(detail)"
   ]
  },
  {
   "cell_type": "code",
   "execution_count": null,
   "metadata": {},
   "outputs": [],
   "source": []
  }
 ],
 "metadata": {
  "kernelspec": {
   "display_name": "Python 3",
   "language": "python",
   "name": "python3"
  },
  "language_info": {
   "codemirror_mode": {
    "name": "ipython",
    "version": 3
   },
   "file_extension": ".py",
   "mimetype": "text/x-python",
   "name": "python",
   "nbconvert_exporter": "python",
   "pygments_lexer": "ipython3",
   "version": "3.7.3"
  }
 },
 "nbformat": 4,
 "nbformat_minor": 4
}
