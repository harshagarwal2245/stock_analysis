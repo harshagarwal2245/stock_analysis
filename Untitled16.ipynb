{
  "nbformat": 4,
  "nbformat_minor": 0,
  "metadata": {
    "colab": {
      "name": "Untitled16.ipynb",
      "provenance": [],
      "collapsed_sections": []
    },
    "kernelspec": {
      "name": "python3",
      "display_name": "Python 3"
    }
  },
  "cells": [
    {
      "cell_type": "markdown",
      "metadata": {
        "id": "yoyE7Ackoayk",
        "colab_type": "text"
      },
      "source": [
        "Invetsment Bankers. CA's. Hedge Fund/Portfolio Managers. Forex traers. Commodities Analysts. These have been historically considered to be among the most coveted professions of all time. Yet,if one fails to keep up with the demands of the day,one would find one's skill to be obsolete in this era of data analysis.\n",
        "Data Science has been incremental in providing powerful insights and helped massively increase the efficiency, helping everyone from a scalptrader to a long term debt investor\n",
        "\n",
        "\n"
      ]
    },
    {
      "cell_type": "markdown",
      "metadata": {
        "id": "VQtR0gZOq19Y",
        "colab_type": "text"
      },
      "source": [
        "First we will start Analysing the data that include finding out of trend of a stock price i.e. how the stock price changes with respect to Nifty 50 Basket of stocks we have data set provided by moneycontrol to exploit for this purpose since it include open price clode price as well as other data."
      ]
    },
    {
      "cell_type": "markdown",
      "metadata": {
        "id": "VFyzuG0lsjQX",
        "colab_type": "text"
      },
      "source": [
        "In this project things are much simpler we will just download a single compressed file Mid-cap.zip that contains a comma seperated files(csv) with all data so now we will wrte function to load data as automating the process of fetching the data is also useful as we may need to install the dataset on multiple machines also we may use this to get latest data in regular interval\n"
      ]
    },
    {
      "cell_type": "code",
      "metadata": {
        "id": "Km9FN7iWuKAT",
        "colab_type": "code",
        "colab": {
          "base_uri": "https://localhost:8080/",
          "height": 70
        },
        "outputId": "c905cb35-758a-450b-f8c3-3e0db34b8e37"
      },
      "source": [
        "import os\n",
        "import numpy as np\n",
        "import pandas as pd\n",
        "import matplotlib.pyplot as plt\n",
        "from sklearn import preprocessing\n",
        "from sklearn.linear_model import LogisticRegression\n",
        "from sklearn.metrics import accuracy_score,confusion_matrix,classification_report\n",
        "from sklearn.model_selection import train_test_split\n",
        "from sklearn.model_selection import GridSearchCV\n",
        "from sklearn.ensemble import RandomForestClassifier\n",
        "from sklearn.neighbors import KNeighborsClassifier\n",
        "from sklearn.svm import SVC\n",
        "from sklearn.ensemble import VotingClassifier\n",
        "import matplotlib as mpl \n",
        "import seaborn as sns\n",
        "from sklearn.model_selection import train_test_split\n",
        "mpl.rc('axes', labelsize=14)\n",
        "mpl.rc('xtick', labelsize=12)\n",
        "mpl.rc('ytick', labelsize=12)\n",
        "\n",
        "# Where to save the figures\n",
        "PROJECT_ROOT_DIR = \".\"\n",
        "CHAPTER_ID = \"Stocks\"\n",
        "IMAGES_PATH = os.path.join(PROJECT_ROOT_DIR, \"images\", CHAPTER_ID)\n",
        "\n",
        "def save_fig(fig_id, tight_layout=True, fig_extension=\"png\", resolution=300):\n",
        "    os.makedirs(IMAGES_PATH,exist_ok=True)\n",
        "    path = os.path.join(IMAGES_PATH, fig_id + \".\" + fig_extension)\n",
        "    print(\"Saving figure\", fig_id)\n",
        "    if tight_layout:\n",
        "        plt.tight_layout()\n",
        "    plt.savefig(path, format=fig_extension, dpi=resolution)"
      ],
      "execution_count": null,
      "outputs": [
        {
          "output_type": "stream",
          "text": [
            "/usr/local/lib/python3.6/dist-packages/statsmodels/tools/_testing.py:19: FutureWarning: pandas.util.testing is deprecated. Use the functions in the public API at pandas.testing instead.\n",
            "  import pandas.util.testing as tm\n"
          ],
          "name": "stderr"
        }
      ]
    },
    {
      "cell_type": "code",
      "metadata": {
        "id": "cCzc_0AvvAs2",
        "colab_type": "code",
        "colab": {}
      },
      "source": [
        "Data_path=os.path.join(\"datasets\",\"stocks\")\n",
        "def load_data(stock,data_path=Data_path):\n",
        "  os.makedirs(data_path,exist_ok=True)\n",
        "  csv_path=os.path.join(data_path,stock)\n",
        "  return pd.read_csv(csv_path)"
      ],
      "execution_count": null,
      "outputs": []
    },
    {
      "cell_type": "code",
      "metadata": {
        "id": "MC-kPDKnwhtk",
        "colab_type": "code",
        "colab": {}
      },
      "source": [
        "data=load_data(\"LEMONTREE.csv\")"
      ],
      "execution_count": null,
      "outputs": []
    },
    {
      "cell_type": "code",
      "metadata": {
        "id": "HIrSeplHxOL4",
        "colab_type": "code",
        "colab": {
          "base_uri": "https://localhost:8080/",
          "height": 434
        },
        "outputId": "269cbd4a-3639-4103-e171-cf8548dfd89b"
      },
      "source": [
        "data.head()"
      ],
      "execution_count": null,
      "outputs": [
        {
          "output_type": "execute_result",
          "data": {
            "text/html": [
              "<div>\n",
              "<style scoped>\n",
              "    .dataframe tbody tr th:only-of-type {\n",
              "        vertical-align: middle;\n",
              "    }\n",
              "\n",
              "    .dataframe tbody tr th {\n",
              "        vertical-align: top;\n",
              "    }\n",
              "\n",
              "    .dataframe thead th {\n",
              "        text-align: right;\n",
              "    }\n",
              "</style>\n",
              "<table border=\"1\" class=\"dataframe\">\n",
              "  <thead>\n",
              "    <tr style=\"text-align: right;\">\n",
              "      <th></th>\n",
              "      <th>Symbol</th>\n",
              "      <th>Series</th>\n",
              "      <th>Date</th>\n",
              "      <th>Prev Close</th>\n",
              "      <th>Open Price</th>\n",
              "      <th>High Price</th>\n",
              "      <th>Low Price</th>\n",
              "      <th>Last Price</th>\n",
              "      <th>Close Price</th>\n",
              "      <th>Average Price</th>\n",
              "      <th>Total Traded Quantity</th>\n",
              "      <th>Turnover</th>\n",
              "      <th>No. of Trades</th>\n",
              "      <th>Deliverable Qty</th>\n",
              "      <th>% Dly Qt to Traded Qty</th>\n",
              "    </tr>\n",
              "  </thead>\n",
              "  <tbody>\n",
              "    <tr>\n",
              "      <th>0</th>\n",
              "      <td>LEMONTREE</td>\n",
              "      <td>EQ</td>\n",
              "      <td>09-Apr-2018</td>\n",
              "      <td>56.00</td>\n",
              "      <td>61.60</td>\n",
              "      <td>73.9</td>\n",
              "      <td>57.25</td>\n",
              "      <td>72.30</td>\n",
              "      <td>71.65</td>\n",
              "      <td>65.59</td>\n",
              "      <td>67619635</td>\n",
              "      <td>4.434900e+09</td>\n",
              "      <td>263630</td>\n",
              "      <td>13918070</td>\n",
              "      <td>20.58</td>\n",
              "    </tr>\n",
              "    <tr>\n",
              "      <th>1</th>\n",
              "      <td>LEMONTREE</td>\n",
              "      <td>EQ</td>\n",
              "      <td>10-Apr-2018</td>\n",
              "      <td>71.65</td>\n",
              "      <td>69.85</td>\n",
              "      <td>71.5</td>\n",
              "      <td>65.40</td>\n",
              "      <td>66.50</td>\n",
              "      <td>66.85</td>\n",
              "      <td>68.42</td>\n",
              "      <td>15217104</td>\n",
              "      <td>1.041159e+09</td>\n",
              "      <td>87183</td>\n",
              "      <td>3186294</td>\n",
              "      <td>20.94</td>\n",
              "    </tr>\n",
              "    <tr>\n",
              "      <th>2</th>\n",
              "      <td>LEMONTREE</td>\n",
              "      <td>EQ</td>\n",
              "      <td>11-Apr-2018</td>\n",
              "      <td>66.85</td>\n",
              "      <td>67.25</td>\n",
              "      <td>69.7</td>\n",
              "      <td>66.05</td>\n",
              "      <td>66.95</td>\n",
              "      <td>66.95</td>\n",
              "      <td>67.69</td>\n",
              "      <td>9094509</td>\n",
              "      <td>6.156216e+08</td>\n",
              "      <td>44895</td>\n",
              "      <td>2323539</td>\n",
              "      <td>25.55</td>\n",
              "    </tr>\n",
              "    <tr>\n",
              "      <th>3</th>\n",
              "      <td>LEMONTREE</td>\n",
              "      <td>EQ</td>\n",
              "      <td>12-Apr-2018</td>\n",
              "      <td>66.95</td>\n",
              "      <td>67.10</td>\n",
              "      <td>67.7</td>\n",
              "      <td>65.10</td>\n",
              "      <td>66.50</td>\n",
              "      <td>66.40</td>\n",
              "      <td>66.44</td>\n",
              "      <td>2408408</td>\n",
              "      <td>1.600220e+08</td>\n",
              "      <td>14777</td>\n",
              "      <td>681080</td>\n",
              "      <td>28.28</td>\n",
              "    </tr>\n",
              "    <tr>\n",
              "      <th>4</th>\n",
              "      <td>LEMONTREE</td>\n",
              "      <td>EQ</td>\n",
              "      <td>13-Apr-2018</td>\n",
              "      <td>66.40</td>\n",
              "      <td>66.70</td>\n",
              "      <td>68.2</td>\n",
              "      <td>66.50</td>\n",
              "      <td>67.60</td>\n",
              "      <td>67.70</td>\n",
              "      <td>67.56</td>\n",
              "      <td>2406014</td>\n",
              "      <td>1.625400e+08</td>\n",
              "      <td>20955</td>\n",
              "      <td>994028</td>\n",
              "      <td>41.31</td>\n",
              "    </tr>\n",
              "  </tbody>\n",
              "</table>\n",
              "</div>"
            ],
            "text/plain": [
              "      Symbol Series  ... Deliverable Qty  % Dly Qt to Traded Qty\n",
              "0  LEMONTREE     EQ  ...        13918070                   20.58\n",
              "1  LEMONTREE     EQ  ...         3186294                   20.94\n",
              "2  LEMONTREE     EQ  ...         2323539                   25.55\n",
              "3  LEMONTREE     EQ  ...          681080                   28.28\n",
              "4  LEMONTREE     EQ  ...          994028                   41.31\n",
              "\n",
              "[5 rows x 15 columns]"
            ]
          },
          "metadata": {
            "tags": []
          },
          "execution_count": 7
        }
      ]
    },
    {
      "cell_type": "markdown",
      "metadata": {
        "id": "yEO1WpJux3g9",
        "colab_type": "text"
      },
      "source": [
        "Each row represent stock data of each day.There are 15 attributes(First six are been shown):Symbol,Series,Date,Prev close,Open Price,High Price. The info method is useful to get a quick description of the data, in particular the total number of rows,each attribute's type, and number of nonnull values"
      ]
    },
    {
      "cell_type": "code",
      "metadata": {
        "id": "GnKB-b9yy-WL",
        "colab_type": "code",
        "colab": {
          "base_uri": "https://localhost:8080/",
          "height": 386
        },
        "outputId": "2746937d-7742-4d66-9e6f-fd7ac8e98608"
      },
      "source": [
        "data.info()"
      ],
      "execution_count": null,
      "outputs": [
        {
          "output_type": "stream",
          "text": [
            "<class 'pandas.core.frame.DataFrame'>\n",
            "RangeIndex: 270 entries, 0 to 269\n",
            "Data columns (total 15 columns):\n",
            " #   Column                  Non-Null Count  Dtype  \n",
            "---  ------                  --------------  -----  \n",
            " 0   Symbol                  270 non-null    object \n",
            " 1   Series                  270 non-null    object \n",
            " 2   Date                    270 non-null    object \n",
            " 3   Prev Close              270 non-null    float64\n",
            " 4   Open Price              270 non-null    float64\n",
            " 5   High Price              270 non-null    float64\n",
            " 6   Low Price               270 non-null    float64\n",
            " 7   Last Price              270 non-null    float64\n",
            " 8   Close Price             270 non-null    float64\n",
            " 9   Average Price           270 non-null    float64\n",
            " 10  Total Traded Quantity   270 non-null    int64  \n",
            " 11  Turnover                270 non-null    float64\n",
            " 12  No. of Trades           270 non-null    int64  \n",
            " 13  Deliverable Qty         270 non-null    int64  \n",
            " 14  % Dly Qt to Traded Qty  270 non-null    float64\n",
            "dtypes: float64(9), int64(3), object(3)\n",
            "memory usage: 31.8+ KB\n"
          ],
          "name": "stdout"
        }
      ]
    },
    {
      "cell_type": "markdown",
      "metadata": {
        "id": "t9y5tq9lzEm7",
        "colab_type": "text"
      },
      "source": [
        "There are 270 instances in th edataset which means that it s fairly small by Machine Learning standards. Allatributes are numerical expect the Symbol,Series,Date.Its type of object,so it could not hold any kind of Python object. But since we loaded this data from a CSV file we know that it must be a text attribute. When we looked at top five rows,we noticed that the values of series and symbol is constand which is not useful for data analysis. hence we will drop this column"
      ]
    },
    {
      "cell_type": "code",
      "metadata": {
        "id": "D7kuh2rU1KRy",
        "colab_type": "code",
        "colab": {}
      },
      "source": [
        "data.drop(['Symbol','Series'],axis=1,inplace=True)"
      ],
      "execution_count": null,
      "outputs": []
    },
    {
      "cell_type": "markdown",
      "metadata": {
        "id": "l-EPRJjc1SEQ",
        "colab_type": "text"
      },
      "source": [
        "Now we will look at the other fields.The describe() method shows a summary of the numerical attributes"
      ]
    },
    {
      "cell_type": "code",
      "metadata": {
        "id": "dRfdcy1t1ia7",
        "colab_type": "code",
        "colab": {
          "base_uri": "https://localhost:8080/",
          "height": 338
        },
        "outputId": "1fe2c2f7-9f92-4ee2-99ee-4a04f36c3f34"
      },
      "source": [
        "data.describe()"
      ],
      "execution_count": null,
      "outputs": [
        {
          "output_type": "execute_result",
          "data": {
            "text/html": [
              "<div>\n",
              "<style scoped>\n",
              "    .dataframe tbody tr th:only-of-type {\n",
              "        vertical-align: middle;\n",
              "    }\n",
              "\n",
              "    .dataframe tbody tr th {\n",
              "        vertical-align: top;\n",
              "    }\n",
              "\n",
              "    .dataframe thead th {\n",
              "        text-align: right;\n",
              "    }\n",
              "</style>\n",
              "<table border=\"1\" class=\"dataframe\">\n",
              "  <thead>\n",
              "    <tr style=\"text-align: right;\">\n",
              "      <th></th>\n",
              "      <th>Prev Close</th>\n",
              "      <th>Open Price</th>\n",
              "      <th>High Price</th>\n",
              "      <th>Low Price</th>\n",
              "      <th>Last Price</th>\n",
              "      <th>Close Price</th>\n",
              "      <th>Average Price</th>\n",
              "      <th>Total Traded Quantity</th>\n",
              "      <th>Turnover</th>\n",
              "      <th>No. of Trades</th>\n",
              "      <th>Deliverable Qty</th>\n",
              "      <th>% Dly Qt to Traded Qty</th>\n",
              "    </tr>\n",
              "  </thead>\n",
              "  <tbody>\n",
              "    <tr>\n",
              "      <th>count</th>\n",
              "      <td>270.000000</td>\n",
              "      <td>270.000000</td>\n",
              "      <td>270.000000</td>\n",
              "      <td>270.000000</td>\n",
              "      <td>270.000000</td>\n",
              "      <td>270.000000</td>\n",
              "      <td>270.000000</td>\n",
              "      <td>2.700000e+02</td>\n",
              "      <td>2.700000e+02</td>\n",
              "      <td>270.000000</td>\n",
              "      <td>2.700000e+02</td>\n",
              "      <td>270.000000</td>\n",
              "    </tr>\n",
              "    <tr>\n",
              "      <th>mean</th>\n",
              "      <td>73.334074</td>\n",
              "      <td>73.492778</td>\n",
              "      <td>75.029444</td>\n",
              "      <td>72.003704</td>\n",
              "      <td>73.345370</td>\n",
              "      <td>73.386852</td>\n",
              "      <td>73.514778</td>\n",
              "      <td>1.393379e+06</td>\n",
              "      <td>1.021104e+08</td>\n",
              "      <td>10985.466667</td>\n",
              "      <td>5.902910e+05</td>\n",
              "      <td>57.136889</td>\n",
              "    </tr>\n",
              "    <tr>\n",
              "      <th>std</th>\n",
              "      <td>4.911375</td>\n",
              "      <td>4.928247</td>\n",
              "      <td>5.054627</td>\n",
              "      <td>4.728424</td>\n",
              "      <td>4.779285</td>\n",
              "      <td>4.799706</td>\n",
              "      <td>4.824713</td>\n",
              "      <td>4.596066e+06</td>\n",
              "      <td>3.148433e+08</td>\n",
              "      <td>20024.024420</td>\n",
              "      <td>1.118621e+06</td>\n",
              "      <td>17.371453</td>\n",
              "    </tr>\n",
              "    <tr>\n",
              "      <th>min</th>\n",
              "      <td>56.000000</td>\n",
              "      <td>61.600000</td>\n",
              "      <td>63.850000</td>\n",
              "      <td>57.250000</td>\n",
              "      <td>63.500000</td>\n",
              "      <td>63.050000</td>\n",
              "      <td>62.770000</td>\n",
              "      <td>3.012500e+04</td>\n",
              "      <td>2.074837e+06</td>\n",
              "      <td>524.000000</td>\n",
              "      <td>2.366100e+04</td>\n",
              "      <td>14.350000</td>\n",
              "    </tr>\n",
              "    <tr>\n",
              "      <th>25%</th>\n",
              "      <td>69.512500</td>\n",
              "      <td>69.712500</td>\n",
              "      <td>70.950000</td>\n",
              "      <td>68.500000</td>\n",
              "      <td>69.512500</td>\n",
              "      <td>69.562500</td>\n",
              "      <td>69.795000</td>\n",
              "      <td>2.027925e+05</td>\n",
              "      <td>1.505937e+07</td>\n",
              "      <td>3201.500000</td>\n",
              "      <td>1.145660e+05</td>\n",
              "      <td>43.997500</td>\n",
              "    </tr>\n",
              "    <tr>\n",
              "      <th>50%</th>\n",
              "      <td>72.900000</td>\n",
              "      <td>73.025000</td>\n",
              "      <td>74.600000</td>\n",
              "      <td>71.500000</td>\n",
              "      <td>72.725000</td>\n",
              "      <td>72.900000</td>\n",
              "      <td>73.130000</td>\n",
              "      <td>4.207385e+05</td>\n",
              "      <td>3.126705e+07</td>\n",
              "      <td>5526.000000</td>\n",
              "      <td>2.440575e+05</td>\n",
              "      <td>56.075000</td>\n",
              "    </tr>\n",
              "    <tr>\n",
              "      <th>75%</th>\n",
              "      <td>76.612500</td>\n",
              "      <td>76.875000</td>\n",
              "      <td>78.537500</td>\n",
              "      <td>74.900000</td>\n",
              "      <td>76.650000</td>\n",
              "      <td>76.612500</td>\n",
              "      <td>76.927500</td>\n",
              "      <td>1.301775e+06</td>\n",
              "      <td>9.417218e+07</td>\n",
              "      <td>11901.000000</td>\n",
              "      <td>6.169290e+05</td>\n",
              "      <td>69.587500</td>\n",
              "    </tr>\n",
              "    <tr>\n",
              "      <th>max</th>\n",
              "      <td>87.900000</td>\n",
              "      <td>87.600000</td>\n",
              "      <td>90.900000</td>\n",
              "      <td>83.000000</td>\n",
              "      <td>87.300000</td>\n",
              "      <td>87.900000</td>\n",
              "      <td>86.390000</td>\n",
              "      <td>6.761964e+07</td>\n",
              "      <td>4.434900e+09</td>\n",
              "      <td>263630.000000</td>\n",
              "      <td>1.391807e+07</td>\n",
              "      <td>95.000000</td>\n",
              "    </tr>\n",
              "  </tbody>\n",
              "</table>\n",
              "</div>"
            ],
            "text/plain": [
              "       Prev Close  Open Price  ...  Deliverable Qty  % Dly Qt to Traded Qty\n",
              "count  270.000000  270.000000  ...     2.700000e+02              270.000000\n",
              "mean    73.334074   73.492778  ...     5.902910e+05               57.136889\n",
              "std      4.911375    4.928247  ...     1.118621e+06               17.371453\n",
              "min     56.000000   61.600000  ...     2.366100e+04               14.350000\n",
              "25%     69.512500   69.712500  ...     1.145660e+05               43.997500\n",
              "50%     72.900000   73.025000  ...     2.440575e+05               56.075000\n",
              "75%     76.612500   76.875000  ...     6.169290e+05               69.587500\n",
              "max     87.900000   87.600000  ...     1.391807e+07               95.000000\n",
              "\n",
              "[8 rows x 12 columns]"
            ]
          },
          "metadata": {
            "tags": []
          },
          "execution_count": 10
        }
      ]
    },
    {
      "cell_type": "markdown",
      "metadata": {
        "id": "p3rxQTyq3HZU",
        "colab_type": "text"
      },
      "source": [
        "The std row shows the standard deviation, which measures how dispersed the values are. The 25%, 50%, 75% rows show the corresponding percentiles: a percentile indicates the value below which a gien percentage of observation in a group of observation falls. For example 25% of stocks cloe price falls in 69.56 while 50% is lesser than 72.9 and 755 are lower than 76.6.\n",
        "we will also use some visvualization techniques later on"
      ]
    },
    {
      "cell_type": "markdown",
      "metadata": {
        "id": "psS3M6I53uVS",
        "colab_type": "text"
      },
      "source": [
        "Now we will try out various attribute combinations. For example, the close price and total traded quantitly is not very useful what we need is Vwap Similarly close price alone is not useful while it changes will give trend of market so lets create these attribute "
      ]
    },
    {
      "cell_type": "code",
      "metadata": {
        "id": "q_h43Mef3JZq",
        "colab_type": "code",
        "colab": {
          "base_uri": "https://localhost:8080/",
          "height": 491
        },
        "outputId": "63859441-6de3-4d20-c10a-aaf81db8aac3"
      },
      "source": [
        "df=pd.DataFrame(data)\n",
        "df['Date']=pd.to_datetime(df['Date'])\n",
        "df['Month']=pd.DatetimeIndex(df['Date']).month\n",
        "df['Year']=pd.DatetimeIndex(df['Date']).year\n",
        "df[\"vwap\"]= (data['Close Price'] * data['Total Traded Quantity']).cumsum() / data['Total Traded Quantity'].fillna(0).cumsum()\n",
        "\n",
        "data_vwap = df[['Month','Year',\"vwap\"]]\n",
        "group = data_vwap.groupby(['Month','Year'])\n",
        "group.first()"
      ],
      "execution_count": null,
      "outputs": [
        {
          "output_type": "execute_result",
          "data": {
            "text/html": [
              "<div>\n",
              "<style scoped>\n",
              "    .dataframe tbody tr th:only-of-type {\n",
              "        vertical-align: middle;\n",
              "    }\n",
              "\n",
              "    .dataframe tbody tr th {\n",
              "        vertical-align: top;\n",
              "    }\n",
              "\n",
              "    .dataframe thead th {\n",
              "        text-align: right;\n",
              "    }\n",
              "</style>\n",
              "<table border=\"1\" class=\"dataframe\">\n",
              "  <thead>\n",
              "    <tr style=\"text-align: right;\">\n",
              "      <th></th>\n",
              "      <th></th>\n",
              "      <th>vwap</th>\n",
              "    </tr>\n",
              "    <tr>\n",
              "      <th>Month</th>\n",
              "      <th>Year</th>\n",
              "      <th></th>\n",
              "    </tr>\n",
              "  </thead>\n",
              "  <tbody>\n",
              "    <tr>\n",
              "      <th>1</th>\n",
              "      <th>2019</th>\n",
              "      <td>73.504211</td>\n",
              "    </tr>\n",
              "    <tr>\n",
              "      <th>2</th>\n",
              "      <th>2019</th>\n",
              "      <td>73.403721</td>\n",
              "    </tr>\n",
              "    <tr>\n",
              "      <th>3</th>\n",
              "      <th>2019</th>\n",
              "      <td>73.379301</td>\n",
              "    </tr>\n",
              "    <tr>\n",
              "      <th rowspan=\"2\" valign=\"top\">4</th>\n",
              "      <th>2018</th>\n",
              "      <td>71.650000</td>\n",
              "    </tr>\n",
              "    <tr>\n",
              "      <th>2019</th>\n",
              "      <td>74.228214</td>\n",
              "    </tr>\n",
              "    <tr>\n",
              "      <th rowspan=\"2\" valign=\"top\">5</th>\n",
              "      <th>2018</th>\n",
              "      <td>73.797188</td>\n",
              "    </tr>\n",
              "    <tr>\n",
              "      <th>2019</th>\n",
              "      <td>74.339562</td>\n",
              "    </tr>\n",
              "    <tr>\n",
              "      <th>6</th>\n",
              "      <th>2018</th>\n",
              "      <td>72.966526</td>\n",
              "    </tr>\n",
              "    <tr>\n",
              "      <th>7</th>\n",
              "      <th>2018</th>\n",
              "      <td>73.070215</td>\n",
              "    </tr>\n",
              "    <tr>\n",
              "      <th>8</th>\n",
              "      <th>2018</th>\n",
              "      <td>73.344417</td>\n",
              "    </tr>\n",
              "    <tr>\n",
              "      <th>9</th>\n",
              "      <th>2018</th>\n",
              "      <td>73.745367</td>\n",
              "    </tr>\n",
              "    <tr>\n",
              "      <th>10</th>\n",
              "      <th>2018</th>\n",
              "      <td>73.758637</td>\n",
              "    </tr>\n",
              "    <tr>\n",
              "      <th>11</th>\n",
              "      <th>2018</th>\n",
              "      <td>73.658231</td>\n",
              "    </tr>\n",
              "    <tr>\n",
              "      <th>12</th>\n",
              "      <th>2018</th>\n",
              "      <td>73.580463</td>\n",
              "    </tr>\n",
              "  </tbody>\n",
              "</table>\n",
              "</div>"
            ],
            "text/plain": [
              "                 vwap\n",
              "Month Year           \n",
              "1     2019  73.504211\n",
              "2     2019  73.403721\n",
              "3     2019  73.379301\n",
              "4     2018  71.650000\n",
              "      2019  74.228214\n",
              "5     2018  73.797188\n",
              "      2019  74.339562\n",
              "6     2018  72.966526\n",
              "7     2018  73.070215\n",
              "8     2018  73.344417\n",
              "9     2018  73.745367\n",
              "10    2018  73.758637\n",
              "11    2018  73.658231\n",
              "12    2018  73.580463"
            ]
          },
          "metadata": {
            "tags": []
          },
          "execution_count": 11
        }
      ]
    },
    {
      "cell_type": "code",
      "metadata": {
        "id": "l14kVMZW5_Tj",
        "colab_type": "code",
        "colab": {}
      },
      "source": [
        "df['Day_Perc_Change'] = df['Close Price'].pct_change().fillna(0)\n",
        "def trends_calculation(data):\n",
        "    if ((df['Day_Perc_Change'] >= -0.5) & (df['Day_Perc_Change'] <= 0.5)).all():\n",
        "        df['Trend'] = 'Slight or No change'\n",
        "    if ((df['Day_Perc_Change'] >= 0.5) & (df['Day_Perc_Change'] <= 1)).all():\n",
        "        df['Trend'] = 'Slight positive'\n",
        "    if ((df['Day_Perc_Change'] <= -0.5) & (df['Day_Perc_Change'] >= -1)).all():\n",
        "        df['Trend'] = 'Slight negative'\n",
        "    if ((df['Day_Perc_Change'] >= 1) & (df['Day_Perc_Change'] <= 3)).all():\n",
        "        df['Trend'] = 'Positive' \n",
        "    if ((df['Day_Perc_Change'] <= -1) & (df['Day_Perc_Change'] >= -3)).all():\n",
        "        df['Trend'] = 'Negative'\n",
        "    if ((df['Day_Perc_Change'] >= 3) & (df['Day_Perc_Change'] <= 7)).all():\n",
        "        df['Trend'] = 'Among top gainers'\n",
        "    if ((df['Day_Perc_Change'] <= -3) & (df['Day_Perc_Change'] >= -7)).all():\n",
        "        df['Trend'] = 'Among top losers'\n",
        "    if (df['Day_Perc_Change'] > 7).all():\n",
        "        df['Trend'] = 'Bull run' \n",
        "    if (df['Day_Perc_Change'] < -7).all():\n",
        "        df['Trend'] = 'Bear drop'"
      ],
      "execution_count": null,
      "outputs": []
    },
    {
      "cell_type": "code",
      "metadata": {
        "id": "ZaIXOGdF6PR4",
        "colab_type": "code",
        "colab": {}
      },
      "source": [
        "trends_calculation(df)"
      ],
      "execution_count": null,
      "outputs": []
    },
    {
      "cell_type": "code",
      "metadata": {
        "id": "HyyVG5nu6XIU",
        "colab_type": "code",
        "colab": {
          "base_uri": "https://localhost:8080/",
          "height": 67
        },
        "outputId": "b7076358-464c-4761-ab98-aaa916d021de"
      },
      "source": [
        "df.groupby(df.Trend).mean()['Total Traded Quantity']\n",
        "df.groupby(df.Trend).median()['Total Traded Quantity']"
      ],
      "execution_count": null,
      "outputs": [
        {
          "output_type": "execute_result",
          "data": {
            "text/plain": [
              "Trend\n",
              "Slight or No change    420738.5\n",
              "Name: Total Traded Quantity, dtype: float64"
            ]
          },
          "metadata": {
            "tags": []
          },
          "execution_count": 14
        }
      ]
    },
    {
      "cell_type": "markdown",
      "metadata": {
        "id": "hYMwtf8n6zA2",
        "colab_type": "text"
      },
      "source": [
        "This round of exploration does not have to be absulately thorough; the point is to start off on the right foot and quickly gain the insight that will help us to find resonably good prototype, now we will analyse output to gain more insight and come back to this exploration step."
      ]
    },
    {
      "cell_type": "markdown",
      "metadata": {
        "id": "PtTlj626753S",
        "colab_type": "text"
      },
      "source": [
        "# Discover and Visualize Data to Gain Insights\n",
        "Now in this step we will take depth glance in data. Since data set is small we will work on the full set lets create a copy so that we can play with it without making changes in dataset\n"
      ]
    },
    {
      "cell_type": "code",
      "metadata": {
        "id": "Fg2Ra27c80Xx",
        "colab_type": "code",
        "colab": {}
      },
      "source": [
        "stocks=df.copy()"
      ],
      "execution_count": null,
      "outputs": []
    },
    {
      "cell_type": "markdown",
      "metadata": {
        "id": "c5TkSzB8-phI",
        "colab_type": "text"
      },
      "source": [
        "Now we will plot some data with time series just to get faundmental insight of data the data plotted will be close price,vwap and daily perc change that we whave calculated earlier \n",
        "![alt text](https://drive.google.com/uc?id=1ddi4Na_qVV7sMm-DN3JIGfQPEW9QcMJD)![alt text](https://drive.google.com/uc?id=1w3LntQebBuEaim91F8UK-cOPygXnBNCE)![alt text](https://drive.google.com/uc?id=1l_rC1TCHdP9amvpanZV-gtBeAqEpTGrg)\n",
        "This looks like whenever the positive daily percentages decreases our total traded quantity also rises by somewhat the same amount. And since the daily changing percentage depends upon the closing prices of each day hence closing \n",
        " prices play a major in the increase of the total traded quantity"
      ]
    },
    {
      "cell_type": "markdown",
      "metadata": {
        "id": "G0s34wWDFVUN",
        "colab_type": "text"
      },
      "source": [
        "Our brain is very good at potting patterns in pictures now we need to play round with visualization parameters ti make pattern stand out. A shHistogram show the number of instances (on the vertical axis) that hace a given range(on horizontal axis so we will plot histogram for daily percentage ![alt text](https://drive.google.com/uc?id=1ToxS_U5YhQseAyquLeue8kPf60-i23Ac)"
      ]
    },
    {
      "cell_type": "markdown",
      "metadata": {
        "id": "CCKNM4gNL20b",
        "colab_type": "text"
      },
      "source": [
        "To find correlation between attribute is to use pairplot() function which plot every numerical attribute against every other numerical attribute. Since there are 5 numerical attribute, you would get (5)^2=25 plot.![alt text](https://drive.google.com/uc?id=1xyhiQt5QXLhnPOF5HTV3CyRpSHTjnOqb) \n",
        "The main daigonal(top left to bottom right)would be full straight line if pandas plotted each variable against itself,which would not be very useful"
      ]
    },
    {
      "cell_type": "markdown",
      "metadata": {
        "id": "OJ9HU1OXVQEG",
        "colab_type": "text"
      },
      "source": [
        "Now we will plot volatility i.e change in variance in the returns of a stock ovea stock over specific period of time which is just moving average\n",
        "![alt text](https://drive.google.com/uc?id=12fdcgabPXFz0NfiIUxAsajiyP5TdcQ5j)  "
      ]
    },
    {
      "cell_type": "markdown",
      "metadata": {
        "id": "bAQV1x4scUpf",
        "colab_type": "text"
      },
      "source": [
        "Now we will calculate volatitlity for Nifty index and compare it with other two copanies this will lead us to a useful indicator known as beta \n",
        "![alt text](https://drive.google.com/uc?id=1SfaSBHSqwqpUEWSpHVtZ3C1vz44aG81P)"
      ]
    },
    {
      "cell_type": "markdown",
      "metadata": {
        "id": "HRpYLEbegXct",
        "colab_type": "text"
      },
      "source": [
        "Now we will calculate average of a selected range of price usually closing price, by number of periods which can aid in determining if an asset price wull continue a bull or bear trend. Since ou graph is moving upward are ssecurity price is increasing.![alt text](https://drive.google.com/uc?id=11OqSrvsbvXgVWi_qV2ZWHtjC8O5csXvz)"
      ]
    },
    {
      "cell_type": "markdown",
      "metadata": {
        "id": "bddYZU8ih-Ho",
        "colab_type": "text"
      },
      "source": [
        "Now we will plot Bollinger Bands which are extremely reliable with a 95% accuracy at 2 standar deviations and especially useful in sideways moving market. When the bands come close together, constricting the moving average, it is called a squeeze. A squeeze signals a period of low volatility and is considered by traders to be a potential sign of future increased volatility and possible trading opportunities. Conversely, the wider apart the bands move, the more likely the chance of a decrease in volatility and the greater the possibility of exiting a trade. However, these conditions are not trading signals. The bands give no indication when the change may take place or which direction price could move.\n",
        "![alt text](https://drive.google.com/uc?id=1dmCiS6Q0AC-XkAnAgF9VsxVAdgVL-6LF)"
      ]
    },
    {
      "cell_type": "markdown",
      "metadata": {
        "id": "FyENB5BMj7tL",
        "colab_type": "text"
      },
      "source": [
        "# Create a Test set\n",
        "It may sound strange to voluntarily set aside part of data at this stage. After all, we have only taken a quick glance at the data and surely we should learn a whole lot more about it so that we can decide which algorithm to apply. If we look at the test set we may stumble upon some seemingly intresting pattern that lead to select algorithm. \n",
        "Scikit-learn provide simple function to split dataset into multiple subsets in various ways the train_test_split() takes random state parameter which allows you to set random generator an ideal value is 0.3 and secon argument is test size that determines numbers of rows in test set it is in percentage ideal size is 0.3"
      ]
    },
    {
      "cell_type": "code",
      "metadata": {
        "id": "17nVfABxnd_N",
        "colab_type": "code",
        "colab": {}
      },
      "source": [
        "X_train, X_test, y_train, y_test = train_test_split(x, y, test_size = 1/3, random_state = 0)"
      ],
      "execution_count": null,
      "outputs": []
    },
    {
      "cell_type": "markdown",
      "metadata": {
        "id": "vZsUqkpvnvus",
        "colab_type": "text"
      },
      "source": [
        "# Select and Train a model\n",
        "The good news is that thanks to previous steps things are now going to be much simpler than we might think. We will train linear regression model "
      ]
    },
    {
      "cell_type": "code",
      "metadata": {
        "id": "CUa4Z0iDoqkc",
        "colab_type": "code",
        "colab": {}
      },
      "source": [
        "regressor = LinearRegression()\n",
        "regressor.fit(X_train, y_train)\n",
        "y_pred = regressor.predict(X_test)\n"
      ],
      "execution_count": null,
      "outputs": []
    },
    {
      "cell_type": "markdown",
      "metadata": {
        "id": "BZy5oNn0ovnk",
        "colab_type": "text"
      },
      "source": [
        "Done! we have now linear regression model. We will measure this regression model Rmse on whole train set using Scikit learn's mean_squared_error() function"
      ]
    },
    {
      "cell_type": "code",
      "metadata": {
        "id": "EghzRkCjpN0T",
        "colab_type": "code",
        "colab": {}
      },
      "source": [
        "mse = mean_squared_error(y_test, y_pred)\n",
        "r2 = r2_score(y_test, y_pred)\n",
        "print('Slope:' ,regressor.coef_)\n",
        "print('Intercept:', regressor.intercept_)\n",
        "print('Root mean squared error: ', rmse)\n",
        "print('R2 score: ', r2)"
      ],
      "execution_count": null,
      "outputs": []
    },
    {
      "cell_type": "markdown",
      "metadata": {
        "id": "YIfpT4nRpao8",
        "colab_type": "text"
      },
      "source": [
        "This is better and clearly a great score the most stocks gold price is between 50 to 1000 so a typical prediction error of 53 is satisfying. Now we will calculate Capital Asset Pricing Model. The CAPM uses the principles of Modern Portfolio Theory to determine if a security is fairly valued. It relies on assumptions about investor behaviors, risk and return distributions, and market fundamentals that don’t match reality. However, the underlying concepts of CAPM and the associated efficient frontier can help investors understand the relationship between expected risk and reward as they make better decisions about adding securities to a portfolio. Now we will use some statiscal function from scipy which will help us to calculate Beta which is component of capm so what is Beta?Beta is a component of the Capital Asset Pricing Model, which calculates the cost of equity funding and can help determine the rate of return to expect relative to perceived risk.A beta greater than 1.0 suggests that the stock is more volatile than the broader market, and a beta less than 1.0 indicates a stock with lower volatility. Our Monthly Beta value is less than 1.0 our value is 0.57 which indicates stock has lower volatility"
      ]
    },
    {
      "cell_type": "markdown",
      "metadata": {
        "id": "V6auV5SssuLN",
        "colab_type": "text"
      },
      "source": [
        "Now we will make prediction on trade calls as we know trade call are been examined using bollinger bands. We will make 4 categories of bolinger bands that are Buy if the stock price is bellow lower bollinger band. 'Hold Buy' if the stock price is between lower and middle Band.'Hold Short' if yhe stock price is between middle and upper band. And 'Short' if stock price is above upper Bolliger Band."
      ]
    },
    {
      "cell_type": "markdown",
      "metadata": {
        "id": "NyoIgOYiuU7X",
        "colab_type": "text"
      },
      "source": [
        "Since this is multiclass classification we have to shortlist few promissing models we had selected randomforest,K Nearest Neigbhour ,Support Vector Machine  we can select Support vector machine since data is less than 10,000 we will also use voting classifier to see which model gives us model which is best from above."
      ]
    },
    {
      "cell_type": "markdown",
      "metadata": {
        "id": "n1tl6vzjvXpJ",
        "colab_type": "text"
      },
      "source": [
        "Accuracy From Random Forest classifier is highest it is 79.02 which is good as per industrial need."
      ]
    },
    {
      "cell_type": "markdown",
      "metadata": {
        "id": "ApYMMaD6wDCM",
        "colab_type": "text"
      },
      "source": [
        "Now we will use classification model to make trade call prediction and makethe efficency of trading algorithm over past two years.For these we will add more 5 columns in our data the accuracy of this random forest is 55% by using hyper-paramer tuning we had used grid-searchcv function to get hyper parameters.\n",
        "Now we will plot daily cumulative returns (in %) by using the model we had trained.![alt text](https://drive.google.com/uc?id=1flCqXE99vYAfSE4r40b4m1LbEuTDjdy3)"
      ]
    },
    {
      "cell_type": "markdown",
      "metadata": {
        "id": "RRlnJaJhyDvb",
        "colab_type": "text"
      },
      "source": [
        "Modern portfolio theory argues that an investment's risk and return characteristics should not be viewed alone, but should be evaluated by how the investment affects the overall portfolio's risk and return.\n",
        "MPT shows that an investor can construct a portfolio of multiple assets that will maximize returns for a given level of risk. Likewise, given a desired level of expected return, an investor can construct a portfolio with the lowest possible risk. Based on statistical measures such as variance and correlation, an individual investment's return is less important than how the investment behaves in the context of the entire portfolio. We wil take 5 stocks in portfolio.We will plot reurns volatility of entire portfolio and mark the 2 portfolios first which has highest Sharpe Ratio and another which has lowest volatility![alt text](https://drive.google.com/uc?id=10PPxngL9I9dXyP4b5CHockJ8bopS6C6N) "
      ]
    },
    {
      "cell_type": "markdown",
      "metadata": {
        "id": "goRGBciRz3Hi",
        "colab_type": "text"
      },
      "source": [
        "Now we will use Clustering technique for diversification analysis.\n",
        "In Financial markets, Cluster analysis is a tehnique used to group sets of object that has similar characterstics. It i a common in statistics, but inverstors will use the approch to build a diversified portfolio. Stock thhat exhibits high correlations in return falls in one bucket abd slightly less in another and so on until each stocks placed in one category.\n",
        "Now for this clustering we will load data of 30 different companies our clustering parameters will be on basis of volatility and returns we will first remove outliers to make our clusters more accurate. \n",
        "From above process we come to know that our whole set will be divided nto three groups  as shown in plot![alt text](https://drive.google.com/uc?id=18CZcmV92QowN7PS7TVqmOd-UCsT0X5Ht)"
      ]
    }
  ]
}